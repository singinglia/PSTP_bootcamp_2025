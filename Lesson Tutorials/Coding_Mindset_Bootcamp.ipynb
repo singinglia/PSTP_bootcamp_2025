{
  "cells": [
    {
      "cell_type": "markdown",
      "metadata": {
        "id": "e20-VMVWQflu"
      },
      "source": [
        "# 🧠 Welcome to the Coding Mindset Bootcamp!\n",
        "\n",
        "This interactive notebook is designed to introduce you to the **thinking behind code**, not just the syntax.\n",
        "\n",
        "We'll explore:\n",
        "- What code really is\n",
        "- The Basics of Code\n",
        "- Data types (and why they matter)\n",
        "- Input/Output\n",
        "- How to debug like a pro\n",
        "- How to break down problems\n",
        "\n",
        "---\n",
        "\n",
        "**Important:** Don't worry about memorizing anything. Our goal is to build **intuition** and give you tools you can use later."
      ],
      "id": "e20-VMVWQflu"
    },
    {
      "cell_type": "markdown",
      "metadata": {
        "id": "bWq0lo2AQflz"
      },
      "source": [
        "## ⚙️ What Is Code?\n",
        "\n",
        "Code is a set of **precise instructions** for a computer. It will do **exactly** what you tell it — not what you *meant*.\n",
        "\n",
        "Let’s try it:"
      ],
      "id": "bWq0lo2AQflz"
    },
    {
      "cell_type": "code",
      "execution_count": null,
      "metadata": {
        "id": "Ya5VbEPyQfl1"
      },
      "outputs": [],
      "source": [
        "# What do you think this will print?\n",
        "print(\"3\" + \"3\")"
      ],
      "id": "Ya5VbEPyQfl1"
    },
    {
      "cell_type": "markdown",
      "source": [
        "## 🧱 Basics of Coding: Variables, Conditionals, Loops, and Functions\n",
        "Let’s explore the three building blocks of most code:"
      ],
      "metadata": {
        "id": "Wcj9wPGVS8DT"
      },
      "id": "Wcj9wPGVS8DT"
    },
    {
      "cell_type": "markdown",
      "source": [
        "### 🔧 Variables  \n",
        "Variables **store information**. You can name them whatever makes sense:"
      ],
      "metadata": {
        "id": "Y2_OwHbOTKxm"
      },
      "id": "Y2_OwHbOTKxm"
    },
    {
      "cell_type": "code",
      "source": [
        "name = \"Jordan\"\n",
        "age = 30\n",
        "is_student = False"
      ],
      "metadata": {
        "id": "8X8_ZxsKTMh6"
      },
      "id": "8X8_ZxsKTMh6",
      "execution_count": null,
      "outputs": []
    },
    {
      "cell_type": "code",
      "source": [
        "# Try changing these!\n",
        "name = \"Jordan\"\n",
        "age = 30\n",
        "print(\"Name:\", name)\n",
        "print(\"Age in 5 years:\", age + 5)"
      ],
      "metadata": {
        "id": "yHfbewpbUC9-"
      },
      "id": "yHfbewpbUC9-",
      "execution_count": null,
      "outputs": []
    },
    {
      "cell_type": "markdown",
      "source": [
        "### 🤔 Conditional Statements  \n",
        "Conditionals **let the computer make decisions** based on conditions.\n",
        "\n",
        "```\n",
        "if condition:\n",
        "    # do this\n",
        "else:\n",
        "    # do something else\n",
        " ```"
      ],
      "metadata": {
        "id": "qI4nS2xZTVR5"
      },
      "id": "qI4nS2xZTVR5"
    },
    {
      "cell_type": "code",
      "source": [
        "# Try changing the value of age\n",
        "age = 17\n",
        "if age >= 18:\n",
        "    print(\"You can vote!\")\n",
        "else:\n",
        "    print(\"Too young to vote.\")"
      ],
      "metadata": {
        "colab": {
          "base_uri": "https://localhost:8080/"
        },
        "id": "WM7WjUD1S7VO",
        "outputId": "3d56db6b-2f4e-489c-f5f3-fcd0d2820aa1"
      },
      "id": "WM7WjUD1S7VO",
      "execution_count": 9,
      "outputs": [
        {
          "output_type": "stream",
          "name": "stdout",
          "text": [
            "Too young to vote.\n"
          ]
        }
      ]
    },
    {
      "cell_type": "markdown",
      "source": [
        "### 🔁 Loops  \n",
        "Loops let us **repeat code**. A `for` loop repeats a number of times:\n",
        "\n",
        "```\n",
        "for item in list:\n",
        "    # do something with item\n",
        "```"
      ],
      "metadata": {
        "id": "y0uGoDpiTfDS"
      },
      "id": "y0uGoDpiTfDS"
    },
    {
      "cell_type": "code",
      "source": [
        "# Print numbers 1 to 5\n",
        "for number in range(1, 6):\n",
        "    print(\"Number:\", number)"
      ],
      "metadata": {
        "id": "15eGQkILTa9u"
      },
      "id": "15eGQkILTa9u",
      "execution_count": null,
      "outputs": []
    },
    {
      "cell_type": "markdown",
      "source": [
        "### Challenge Section:\n",
        "\n",
        "\n",
        "* Try changing the range to 1–50\n",
        "* Change the rules (e.g., \"Pop\" for 4 and \"Zap\" for 6)\n",
        "* Add a condition where if a number matches a variable, it prints \"Match\"\n",
        "\n"
      ],
      "metadata": {
        "id": "F-1PARUuVD1-"
      },
      "id": "F-1PARUuVD1-"
    },
    {
      "cell_type": "code",
      "source": [
        "# Print numbers 1 to 20 with special rules\n",
        "for number in range(1, 21):\n",
        "    if number % 3 == 0 and number % 5 == 0:\n",
        "        print(\"FizzBuzz\")\n",
        "    elif number % 3 == 0:\n",
        "        print(\"Fizz\")\n",
        "    elif number % 5 == 0:\n",
        "        print(\"Buzz\")\n",
        "    else:\n",
        "        print(number)\n"
      ],
      "metadata": {
        "id": "FXd87Yu-VG1I"
      },
      "id": "FXd87Yu-VG1I",
      "execution_count": null,
      "outputs": []
    },
    {
      "cell_type": "markdown",
      "source": [
        "### 🧰 Functions: Breaking Problems Into Chunks\n",
        "\n",
        "A **function** is like a small machine. You give it input, it does something, and gives you output.\n",
        "\n",
        "```\n",
        "def greet(name):\n",
        "    print(\"Hello\", name)\n",
        "\n",
        "greet(\"Asha\")\n",
        "```"
      ],
      "metadata": {
        "id": "3AQX9UVmWlYT"
      },
      "id": "3AQX9UVmWlYT"
    },
    {
      "cell_type": "markdown",
      "source": [
        "Why use functions?\n",
        "* Reuse code\n",
        "* Organize logic\n",
        "* Make code easier to understand"
      ],
      "metadata": {
        "id": "JwdLT2q2WvC_"
      },
      "id": "JwdLT2q2WvC_"
    },
    {
      "cell_type": "code",
      "source": [
        "# A function that multiplies a number by 2\n",
        "def double(x):\n",
        "    return x * 2\n",
        "\n",
        "# Try changing the number\n",
        "result = double(5)\n",
        "print(\"Doubled value:\", result)"
      ],
      "metadata": {
        "id": "Ouej5c6iWg7y"
      },
      "id": "Ouej5c6iWg7y",
      "execution_count": null,
      "outputs": []
    },
    {
      "cell_type": "code",
      "source": [
        "# Create your own function!\n",
        "# Goal: Write a function called `add_one` that takes a number and returns that number + 1\n",
        "# Your turn:"
      ],
      "metadata": {
        "id": "TP3Be3QmXBqS"
      },
      "id": "TP3Be3QmXBqS",
      "execution_count": null,
      "outputs": []
    },
    {
      "cell_type": "code",
      "source": [
        "print(add_one(7))  # Expected output: 8"
      ],
      "metadata": {
        "id": "_jes6mMIXOv0"
      },
      "id": "_jes6mMIXOv0",
      "execution_count": null,
      "outputs": []
    },
    {
      "cell_type": "markdown",
      "metadata": {
        "id": "sM3F8f12Qfl2"
      },
      "source": [
        "## 🔣 Data Types 101\n",
        "\n",
        "Everything in code has a **type** — it's like knowing whether you're working with numbers, words, or lists.\n",
        "\n",
        "Try changing and running these cells:"
      ],
      "id": "sM3F8f12Qfl2"
    },
    {
      "cell_type": "code",
      "execution_count": 1,
      "metadata": {
        "colab": {
          "base_uri": "https://localhost:8080/"
        },
        "id": "7z7DMi8hQfl2",
        "outputId": "39bad586-5f0c-4862-f079-e13a473f3d8a"
      },
      "outputs": [
        {
          "output_type": "stream",
          "name": "stdout",
          "text": [
            "Hello, Alex\n"
          ]
        }
      ],
      "source": [
        "# STRING (text)\n",
        "name = \"Alex\"\n",
        "print(\"Hello, \" + name)"
      ],
      "id": "7z7DMi8hQfl2"
    },
    {
      "cell_type": "code",
      "execution_count": 2,
      "metadata": {
        "colab": {
          "base_uri": "https://localhost:8080/"
        },
        "id": "ULRHnb47Qfl3",
        "outputId": "6928435d-fe2d-4169-e29a-a165522b0454"
      },
      "outputs": [
        {
          "output_type": "stream",
          "name": "stdout",
          "text": [
            "30\n"
          ]
        }
      ],
      "source": [
        "# INTEGER (whole number)\n",
        "age = 25\n",
        "print(age + 5)"
      ],
      "id": "ULRHnb47Qfl3"
    },
    {
      "cell_type": "code",
      "execution_count": 3,
      "metadata": {
        "colab": {
          "base_uri": "https://localhost:8080/"
        },
        "id": "Mo6nCIkLQfl3",
        "outputId": "b252ff9b-4a15-496b-f8e2-86e776e8598b"
      },
      "outputs": [
        {
          "output_type": "stream",
          "name": "stdout",
          "text": [
            "Is student: True\n"
          ]
        }
      ],
      "source": [
        "# BOOLEAN (True/False)\n",
        "is_student = True\n",
        "print(\"Is student:\", is_student)"
      ],
      "id": "Mo6nCIkLQfl3"
    },
    {
      "cell_type": "code",
      "source": [
        "# Try it!\n",
        "a = 5\n",
        "b = \"hello\"\n",
        "print(a + b)  # Does this work? Why or why not?"
      ],
      "metadata": {
        "id": "wAMoxattRepi"
      },
      "id": "wAMoxattRepi",
      "execution_count": null,
      "outputs": []
    },
    {
      "cell_type": "markdown",
      "metadata": {
        "id": "Mw2jCr2vQfl3"
      },
      "source": [
        "### 🧪 Mini Challenge:\n",
        "Try editing the code below to:\n",
        "- Add two numbers\n",
        "- Combine two strings\n",
        "- Print a boolean result"
      ],
      "id": "Mw2jCr2vQfl3"
    },
    {
      "cell_type": "code",
      "execution_count": null,
      "metadata": {
        "id": "XlITFyUJQfl4"
      },
      "outputs": [],
      "source": [
        "# Add two numbers\n",
        "a = 5\n",
        "b = \"12\"\n",
        "print(a + b)"
      ],
      "id": "XlITFyUJQfl4"
    },
    {
      "cell_type": "code",
      "source": [
        "# Combine to strings\n",
        "a = \"There are \"\n",
        "b = 12\n",
        "c = \" apples on the tree.\"\n",
        "print(a + b + c)"
      ],
      "metadata": {
        "id": "74uHNyyHRqb3"
      },
      "id": "74uHNyyHRqb3",
      "execution_count": null,
      "outputs": []
    },
    {
      "cell_type": "code",
      "source": [
        "#Print a boolean result\n",
        "a = 0 #booleans are often represented by 0 and 1\n",
        "b = False\n",
        "print(a + b)"
      ],
      "metadata": {
        "colab": {
          "base_uri": "https://localhost:8080/"
        },
        "id": "-Q1F2aLDSBYX",
        "outputId": "455e72a2-dcd7-436a-d2df-1749782bbcbc"
      },
      "id": "-Q1F2aLDSBYX",
      "execution_count": 7,
      "outputs": [
        {
          "output_type": "stream",
          "name": "stdout",
          "text": [
            "0\n"
          ]
        }
      ]
    },
    {
      "cell_type": "markdown",
      "source": [
        "## 🔄 Input → Process → Output\n",
        "\n",
        "Most programs follow this pattern:\n",
        "\n",
        "**Input** = what you give it  \n",
        "**Process** = what it does  \n",
        "**Output** = the result you get"
      ],
      "metadata": {
        "id": "Q7PPFgEpXVjv"
      },
      "id": "Q7PPFgEpXVjv"
    },
    {
      "cell_type": "code",
      "source": [
        "# Example:\n",
        "name = input(\"What is your name? \")   # Input\n",
        "greeting = \"Hello \" + name            # Process\n",
        "print(greeting)                       # Output"
      ],
      "metadata": {
        "id": "GUNwpbdhXfhQ"
      },
      "id": "GUNwpbdhXfhQ",
      "execution_count": null,
      "outputs": []
    },
    {
      "cell_type": "markdown",
      "metadata": {
        "id": "LnGcXbjVQfl4"
      },
      "source": [
        "## 🐞 Debugging 101\n",
        "\n",
        "### Most bugs come from:\n",
        "- Typos\n",
        "- Wrong data types\n",
        "- Forgetting how something is spelled or structured\n",
        "\n",
        "Let's fix some bugs together:"
      ],
      "id": "LnGcXbjVQfl4"
    },
    {
      "cell_type": "code",
      "execution_count": null,
      "metadata": {
        "id": "YswWepXcQfl4"
      },
      "outputs": [],
      "source": [
        "# Can you fix this?\n",
        "name = \"Taylor\"\n",
        "print(\"Hi, my name is \" + namee)"
      ],
      "id": "YswWepXcQfl4"
    },
    {
      "cell_type": "code",
      "execution_count": null,
      "metadata": {
        "id": "kubzCEmvQfl5"
      },
      "outputs": [],
      "source": [
        "# What type is this?\n",
        "a = \"5\"\n",
        "b = 3\n",
        "print(a + b)  # Hint: different types can't be added directly"
      ],
      "id": "kubzCEmvQfl5"
    },
    {
      "cell_type": "markdown",
      "metadata": {
        "id": "65-JIatzQfl5"
      },
      "source": [
        "### 🔧 Debugging Tips:\n",
        "- Use `print()` to check what your code is doing\n",
        "- Read error messages from top to bottom\n",
        "- Break your code into smaller pieces"
      ],
      "id": "65-JIatzQfl5"
    },
    {
      "cell_type": "markdown",
      "source": [
        "## 🧠 Debug First, Google Second\n",
        "\n",
        "Sometimes you’ll hit an error and think: “I’ll just Google it.”\n",
        "\n",
        "But wait! Before you copy-paste the error...\n",
        "\n",
        "---\n",
        "\n",
        "### ✅ First: Try to Understand It Yourself\n",
        "\n",
        "1. **Read the error carefully**  \n",
        "   → Look at the **line number** and **error type**  \n",
        "   → Try to guess what went wrong\n",
        "\n",
        "2. **Use `print()` to check values**  \n",
        "   → This helps you confirm what your variables are doing  \n",
        "   → Example:\n",
        "   ```python\n",
        "   print(\"value of x:\", x)\n",
        "   ```\n",
        "\n",
        "3. **Check your logic step-by-step**\n",
        "  - Are the values what you expected?\n",
        "  - Did something change that you forgot?"
      ],
      "metadata": {
        "id": "OM3seTZ2anbn"
      },
      "id": "OM3seTZ2anbn"
    },
    {
      "cell_type": "markdown",
      "source": [
        "\n",
        "\n",
        "## 🧠 Debug First, Google Second\n",
        "\n",
        "Sometimes you’ll hit an error and think: “I’ll just Google it.”\n",
        "\n",
        "But wait! Before you copy-paste the error...\n",
        "\n",
        "---\n",
        "\n",
        "### ✅ First: Try to Understand It Yourself\n",
        "\n",
        "1. **Read the error carefully**  \n",
        "   → Look at the **line number** and **error type**  \n",
        "   → Try to guess what went wrong\n",
        "\n",
        "2. **Use `print()` to check values**  \n",
        "   → This helps you confirm what your variables are doing  \n",
        "   → Example:\n",
        "   ```python\n",
        "   print(\"value of x:\", x)\n",
        "   ```\n",
        "\n",
        "3. **Check your logic step-by-step**  \n",
        "   → Are the values what you expected?  \n",
        "   → Did something change that you forgot?\n"
      ],
      "metadata": {
        "id": "p1OZuivsbcif"
      },
      "id": "p1OZuivsbcif"
    },
    {
      "cell_type": "markdown",
      "source": [
        "###  How to Read Errors\n",
        "\n",
        "When something breaks, don’t panic — errors are **clues**! Here’s how to read them:\n",
        "\n",
        "#### 👀 What to Look For:\n",
        "- **Line number** – where the error happened\n",
        "- **Error type** – the kind of problem (e.g., `TypeError`, `NameError`)\n",
        "- **Error message** – what went wrong\n",
        "\n",
        "Here are a couple of examples:"
      ],
      "metadata": {
        "id": "rqciKMfNYVn9"
      },
      "id": "rqciKMfNYVn9"
    },
    {
      "cell_type": "markdown",
      "source": [],
      "metadata": {
        "id": "_fJxF_fRby06"
      },
      "id": "_fJxF_fRby06"
    },
    {
      "cell_type": "code",
      "source": [
        "# NameError\n",
        "name = \"Alex\"\n",
        "print(namme)  # Misspelled variable"
      ],
      "metadata": {
        "id": "WuMGQzM4ZMWo"
      },
      "id": "WuMGQzM4ZMWo",
      "execution_count": null,
      "outputs": []
    },
    {
      "cell_type": "code",
      "source": [
        "# TypeError\n",
        "print(\"Age: \" + 25)  # Mixing string and number"
      ],
      "metadata": {
        "id": "ELisKB7PZN23"
      },
      "id": "ELisKB7PZN23",
      "execution_count": null,
      "outputs": []
    },
    {
      "cell_type": "code",
      "source": [
        "# IndexError\n",
        "my_list = [1, 2, 3]\n",
        "print(my_list[5])  # Trying to access an item that doesn't exist"
      ],
      "metadata": {
        "id": "KRolhAfmZOnt"
      },
      "id": "KRolhAfmZOnt",
      "execution_count": null,
      "outputs": []
    },
    {
      "cell_type": "code",
      "source": [
        "# ValueError\n",
        "int(\"hello\")  # Trying to convert text that isn't a number"
      ],
      "metadata": {
        "id": "tioHqVh3ZROP"
      },
      "id": "tioHqVh3ZROP",
      "execution_count": null,
      "outputs": []
    },
    {
      "cell_type": "markdown",
      "source": [
        "If you still don’t understand, then go online for help."
      ],
      "metadata": {
        "id": "r1TkjU3PcAVN"
      },
      "id": "r1TkjU3PcAVN"
    },
    {
      "cell_type": "markdown",
      "source": [
        "# 💬 How to Ask for Help (And Get Good Answers!)\n",
        "\n",
        "If you still don’t understand, then Google:\n",
        "- Use the exact error message\n",
        "\n",
        "- Include key terms (e.g., “Python TypeError + list”)\n",
        "\n",
        "- Look for explanations and examples\n",
        "\n",
        "With AI tools and StackOverflow, here’s how to get great help:\n",
        "\n",
        "### ✅ Include:\n",
        "1. **What you’re trying to do**\n",
        "2. **What you expected**\n",
        "3. **What happened instead** (include the error!)\n",
        "4. **What you’ve already tried**\n",
        "\n",
        "### 🔍 Example:\n",
        "> “I’m trying to print a list item, but I get an `IndexError`. I expected to get the third item, but it crashes on `my_list[5]`. I tried using `len()` to check the list length but it didn’t help.”\n",
        "\n",
        "---\n",
        "\n",
        "### 📚 Errors You Can Google:\n",
        "- `TypeError: can only concatenate str (not \"int\") to str`\n",
        "- `IndexError: list index out of range`\n",
        "- `NameError: name 'x' is not defined`\n",
        "- `ValueError: invalid literal for int() with base 10`\n"
      ],
      "metadata": {
        "id": "TvqGABNdYumZ"
      },
      "id": "TvqGABNdYumZ"
    },
    {
      "cell_type": "markdown",
      "source": [
        "### ⚖️ Summary:\n",
        "> **Use `print()` to explore → Think it through → Then Google if needed**\n",
        "\n",
        "The goal is to **build your debugging brain**, not just collect code snippets!\n"
      ],
      "metadata": {
        "id": "mGaHAZXec8MJ"
      },
      "id": "mGaHAZXec8MJ"
    },
    {
      "cell_type": "markdown",
      "source": [
        "#### 🧪 **Code Cell: Debug This!**"
      ],
      "metadata": {
        "id": "irI9TGG_eDpw"
      },
      "id": "irI9TGG_eDpw"
    },
    {
      "cell_type": "code",
      "source": [
        "def check_age():\n",
        "    age = input(\"Enter your age: \")\n",
        "    if age >= 18:\n",
        "        print(\"You can vote!\")\n",
        "    else:\n",
        "        print(\"You are too young to vote.\")\n",
        "\n",
        "    years_left = 65 - age\n",
        "    if years_left > 0:\n",
        "        print(\"You have \" + years_left + \" years until retirement.\")\n",
        "    else:\n",
        "        print(\"You are already eligible for retirement!\")\n",
        "\n",
        "check_age()\n"
      ],
      "metadata": {
        "id": "qGdF9LOQeGyV"
      },
      "id": "qGdF9LOQeGyV",
      "execution_count": null,
      "outputs": []
    },
    {
      "cell_type": "markdown",
      "metadata": {
        "id": "pXcNx2EdQfl5"
      },
      "source": [
        "## 🧩 Summary: Solving Problems in Code\n",
        "\n",
        "You don’t need to memorize everything — you need to:\n",
        "\n",
        "1. Google/use AI smartly\n",
        "2. Break problems into steps\n",
        "3. Use examples and tweak them\n"
      ],
      "id": "pXcNx2EdQfl5"
    },
    {
      "cell_type": "markdown",
      "metadata": {
        "id": "eqYbgnM5Qfl6"
      },
      "source": [
        "## ✅ Wrap-Up\n",
        "\n",
        "You learned:\n",
        "- What code is and how it thinks\n",
        "- Why data types matter\n",
        "- How to debug with confidence\n",
        "- How to approach coding problems\n",
        "\n",
        "### Next Steps:\n",
        "- Try small projects\n",
        "- Play with code examples\n",
        "- Get used to breaking and fixing things!\n",
        "\n",
        "Good luck — you've got this!"
      ],
      "id": "eqYbgnM5Qfl6"
    }
  ],
  "metadata": {
    "kernelspec": {
      "display_name": "Python 3",
      "language": "python",
      "name": "python3"
    },
    "language_info": {
      "name": "python",
      "version": "3.8"
    },
    "colab": {
      "provenance": []
    }
  },
  "nbformat": 4,
  "nbformat_minor": 5
}